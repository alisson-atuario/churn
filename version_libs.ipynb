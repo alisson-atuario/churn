{
 "cells": [
  {
   "cell_type": "code",
   "execution_count": 7,
   "id": "12942fe7",
   "metadata": {},
   "outputs": [
    {
     "name": "stdout",
     "output_type": "stream",
     "text": [
      "Versões das bibliotecas:\n",
      "------------------------------\n",
      "kagglehub==0.3.12\n",
      "pandas==2.3.1\n",
      "joblib==1.5.1\n",
      "numpy==2.2.6\n",
      "matplotlib==3.10.5\n",
      "scikit-learn==1.7.2\n",
      "lightgbm==4.6.0\n",
      "imbalanced-learn==0.14.0\n",
      "seaborn==0.13.2\n",
      "shap==0.48.0\n",
      "streamlit==1.50.0\n",
      "plotly==6.3.1\n"
     ]
    }
   ],
   "source": [
    "from importlib.metadata import version\n",
    "\n",
    "packages = [\n",
    "    'kagglehub',\n",
    "    'pandas',\n",
    "    'joblib',\n",
    "    'numpy', \n",
    "    'matplotlib',\n",
    "    'scikit-learn',\n",
    "    'lightgbm',\n",
    "    'imbalanced-learn',\n",
    "    'seaborn',\n",
    "    'shap',\n",
    "    'streamlit',\n",
    "    'plotly'\n",
    "]\n",
    "\n",
    "print(\"Versões das bibliotecas:\")\n",
    "print(\"-\" * 30)\n",
    "\n",
    "for package in packages:\n",
    "    try:\n",
    "        package_version = version(package)\n",
    "        print(f\"{package}=={package_version}\")\n",
    "    except Exception as e:\n",
    "        print(f\"{package} não instalado ou erro: {e}\")"
   ]
  }
 ],
 "metadata": {
  "kernelspec": {
   "display_name": "career_lab",
   "language": "python",
   "name": "python3"
  },
  "language_info": {
   "codemirror_mode": {
    "name": "ipython",
    "version": 3
   },
   "file_extension": ".py",
   "mimetype": "text/x-python",
   "name": "python",
   "nbconvert_exporter": "python",
   "pygments_lexer": "ipython3",
   "version": "3.10.18"
  }
 },
 "nbformat": 4,
 "nbformat_minor": 5
}
